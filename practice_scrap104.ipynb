{
 "cells": [
  {
   "cell_type": "code",
   "execution_count": 73,
   "metadata": {},
   "outputs": [],
   "source": [
    "\n",
    "# 處理逾時例外的工具\n",
    "from selenium.common.exceptions import TimeoutException\n",
    "\n",
    "# 面對動態網頁，等待某個元素出現的工具，通常與 exptected_conditions 搭配\n",
    "from selenium.webdriver.support.ui import WebDriverWait\n",
    "\n",
    "# 搭配 WebDriverWait 使用，對元素狀態的一種期待條件，若條件發生，則等待結束，往下一行執行\n",
    "from selenium.webdriver.support import expected_conditions as EC\n",
    "\n",
    "# 期待元素出現要透過什麼方式指定，通常與 EC、WebDriverWait 一起使用\n",
    "from selenium.webdriver.common.by import By\n",
    "from selenium import webdriver\n",
    "from pprint import pprint\n",
    "\n",
    "# 強制等待 (執行期間休息一下)\n",
    "from time import sleep\n",
    "# 啟動瀏覽器工具的選項\n",
    "my_options = webdriver.ChromeOptions()\n",
    "# my_options.add_argument(\"--headless\")                #不開啟實體瀏覽器背景執行\n",
    "my_options.add_argument(\"--start-maximized\")         #最大化視窗\n",
    "my_options.add_argument(\"--incognito\")               #開啟無痕模式\n",
    "my_options.add_argument(\"--disable-popup-blocking\") #禁用彈出攔截\n",
    "my_options.add_argument(\"--disable-notifications\")  #取消 chrome 推播通知\n",
    "my_options.add_argument(\"--lang=zh-TW\")  #設定為正體中文\n",
    "# my_service = Service(executable_path=\"./chromedriver.exe\")\n",
    "\n"
   ]
  },
  {
   "cell_type": "code",
   "execution_count": 74,
   "metadata": {},
   "outputs": [],
   "source": [
    "# 開啟chrome driver\n",
    "driver = webdriver.Chrome(\n",
    "    options = my_options,\n",
    "#     service = my_service\n",
    ")\n",
    "Position_find_list=[]"
   ]
  },
  {
   "cell_type": "code",
   "execution_count": 75,
   "metadata": {},
   "outputs": [],
   "source": [
    "driver.get(\"https://www.104.com.tw/jobs/main/\")"
   ]
  },
  {
   "cell_type": "code",
   "execution_count": 76,
   "metadata": {},
   "outputs": [],
   "source": [
    "list_jobs=['數據分析師', '資料科學家', '資料工程師', 'AI工程師']\n",
    "Position_find_list=[]\n",
    "#輸入搜尋條件\n",
    "driver.find_element(By.CSS_SELECTOR,'input.form-control').send_keys('生醫')\n",
    "elements = driver.find_elements(By.CSS_SELECTOR,'button span.h3')\n",
    "for element in elements:\n",
    "    if element.text == '職務類別': element.click()\n"
   ]
  },
  {
   "cell_type": "code",
   "execution_count": 77,
   "metadata": {},
   "outputs": [],
   "source": [
    "\n",
    "# 選擇我想要的職務分類\n",
    "try:\n",
    "    element = WebDriverWait(driver, 10).until(\n",
    "        EC.presence_of_element_located(\n",
    "            (By.XPATH, \"//span[@class='children' and text()='資訊軟體系統類']\")\n",
    "        )\n",
    "    )\n",
    "    driver.find_element(By.XPATH, \"//span[@class='children' and text()='資訊軟體系統類']\").click()\n",
    "    driver.find_element(By.XPATH, \"//span[@class='children' and text()='軟體／工程類人員']\").click()\n",
    "    \n",
    "except TimeoutException:\n",
    "    print(\"元素未在指定时间内变得可点击\")\n",
    "sleep(3)"
   ]
  },
  {
   "cell_type": "code",
   "execution_count": 78,
   "metadata": {},
   "outputs": [],
   "source": [
    "# 選取list_jobs裡的職位名並勾取\n",
    "for job in list_jobs:\n",
    "    try:\n",
    "        element = WebDriverWait(driver, 10).until(\n",
    "            EC.presence_of_element_located(\n",
    "                (By.XPATH, f\"//span[@class='children' and text()='{job}']\")\n",
    "            )   \n",
    "        )\n",
    "        driver.find_element(By.XPATH, f\"//span[@class='children' and text()='{job}']\").click()\n",
    "    except TimeoutException:\n",
    "        print(\"Timeout\")\n",
    "\n",
    "sleep(1)\n",
    "# press confirm\n",
    "driver.find_element(By.XPATH, \"//button[text()='確定']\").click()\n",
    "# press search\n",
    "try:\n",
    "    element = WebDriverWait(driver, 10).until(\n",
    "        EC.presence_of_element_located(\n",
    "            (By.CSS_SELECTOR,\"button[type='submit']\")\n",
    "        )\n",
    "    )\n",
    "    driver.find_element(By.CSS_SELECTOR,\"button[type='submit']\").click()\n",
    "except TimeoutException:\n",
    "    print(\"cant find search\")"
   ]
  },
  {
   "cell_type": "code",
   "execution_count": 79,
   "metadata": {},
   "outputs": [
    {
     "name": "stdout",
     "output_type": "stream",
     "text": [
      "still scrolling well. Error code: TimeoutException, count: 0\n",
      "still scrolling well. Error code: TimeoutException, count: 0\n",
      "still scrolling well. Error code: TimeoutException, count: 1\n",
      "still scrolling well. Error code: TimeoutException, count: 2\n",
      "done\n"
     ]
    }
   ],
   "source": [
    "innerHeight = 0\n",
    "offset = 0\n",
    "count = 0\n",
    "limit = 3\n",
    "while count<limit: \n",
    "    # 取得當前螢幕總長度\n",
    "    offset = driver.execute_script(\n",
    "        'return document.documentElement.scrollHeight;'\n",
    "    )\n",
    "    # 將螢幕拉到底\n",
    "    # python f-string中{}為佔位符，要使用{}作為字串得用{{}}\n",
    "    driver.execute_script(\n",
    "        f'''window.scrollTo({{top:{offset}, behavior:'smooth'}})''' \n",
    "    )\n",
    "    # 因為有時拉過快會出現手動加載按鈕，判斷如果按鈕出現就按下，沒出現則繼續\n",
    "    try:\n",
    "        WebDriverWait(driver, 1.5).until(\n",
    "                EC.presence_of_element_located(\n",
    "                (By.CSS_SELECTOR, 'button.js-more-page')\n",
    "            )\n",
    "        )\n",
    "        driver.find_elements(By.CSS_SELECTOR, 'button.js-more-page')[-1].click()\n",
    "                 \n",
    "    except Exception as e:\n",
    "        print(f\"still scrolling well. Error code: {type(e).__name__}, count: {count}\")\n",
    "        # 取得當前高度(用以判斷是否到底)\n",
    "        innerHeight = driver.execute_script(\n",
    "            'return document.documentElement.scrollHeight;'\n",
    "        )\n",
    "        # 當快到底scroll過短的時候，經常先取得innerHeight才加載完，導致提早退出\n",
    "        # 於是發現當前高度=總長度的時候先睡三秒，以免加載慢了\n",
    "        if innerHeight == offset:\n",
    "            sleep(3)\n",
    "            # 睡完後再度判斷是否到底，沒到底則計數器不增加並繼續\n",
    "            innerHeight = driver.execute_script(\n",
    "                'return document.documentElement.scrollHeight;'\n",
    "            )\n",
    "            if innerHeight == offset:\n",
    "                count+=1\n",
    "        \n",
    "    \n",
    "        \n",
    "print('done')"
   ]
  },
  {
   "cell_type": "code",
   "execution_count": 80,
   "metadata": {},
   "outputs": [],
   "source": [
    "from bs4 import BeautifulSoup as bs\n",
    "page_source = driver.page_source\n",
    "# pprint(page_source)\n",
    "soup = bs(page_source, \"lxml\") "
   ]
  },
  {
   "cell_type": "code",
   "execution_count": 81,
   "metadata": {},
   "outputs": [],
   "source": [
    "# 爬取資料 jobs_name\n",
    "elements = soup.select('article[data-qa-id=\"jobSeachResult\"]')\n",
    "elements\n",
    "i=0\n",
    "for ele in elements:\n",
    "    job_info = {\n",
    "        \"Job_title\" : ele.get_attribute_list('data-job-name')[0],\n",
    "        \"Corp_name\" : ele.get_attribute_list('data-cust-name')[0],\n",
    "        \"Corp_type\" : ele.get_attribute_list('data-indcat-desc')[0]\n",
    "    }\n",
    "    Position_find_list.append(job_info)\n",
    "    \n",
    "    "
   ]
  },
  {
   "cell_type": "code",
   "execution_count": 83,
   "metadata": {},
   "outputs": [],
   "source": [
    "import json\n",
    "import os\n",
    "folderPath = './job_list/'\n",
    "\n",
    "def saveJson():\n",
    "    if not os.path.exists(folderPath):\n",
    "        os.makedirs(folderPath)\n",
    "    with open(f\"{folderPath}/jobs_find.json\", \"w\", encoding='utf-8') as file:\n",
    "        file.write( json.dumps(Position_find_list, ensure_ascii=False, indent=4) )\n",
    "Position_find_list\n",
    "saveJson()"
   ]
  }
 ],
 "metadata": {
  "kernelspec": {
   "display_name": "Python3@ws",
   "language": "python",
   "name": "ws"
  },
  "language_info": {
   "codemirror_mode": {
    "name": "ipython",
    "version": 3
   },
   "file_extension": ".py",
   "mimetype": "text/x-python",
   "name": "python",
   "nbconvert_exporter": "python",
   "pygments_lexer": "ipython3",
   "version": "3.10.14"
  }
 },
 "nbformat": 4,
 "nbformat_minor": 2
}
